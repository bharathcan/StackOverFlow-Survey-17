{
 "cells": [
  {
   "cell_type": "markdown",
   "metadata": {},
   "source": [
    "<h2>Objectives</h2>\n",
    "\n",
    "- How education may influence the salary?\n",
    "- Gender Ratio of developers across the globe\n",
    "- The rate of increase in salary with the years of experience\n",
    "- More Language = More Money?"
   ]
  },
  {
   "cell_type": "code",
   "execution_count": 1,
   "metadata": {},
   "outputs": [],
   "source": [
    "# Importing Libraries\n",
    "import pandas as pd"
   ]
  },
  {
   "cell_type": "code",
   "execution_count": 2,
   "metadata": {},
   "outputs": [
    {
     "data": {
      "text/plain": [
       "(51392, 154)"
      ]
     },
     "execution_count": 2,
     "metadata": {},
     "output_type": "execute_result"
    }
   ],
   "source": [
    "# Importing Dataset \n",
    "df = pd.read_csv('survey_results_public.csv')\n",
    "\n",
    "# Creating copies of original dataset\n",
    "question_1 = df.copy(deep=True)\n",
    "question_2 = df.copy(deep=True)\n",
    "question_3 = df.copy(deep=True)\n",
    "question_4 = df.copy(deep=True)\n",
    "question_5 = df.copy(deep=True)\n",
    "df.shape"
   ]
  },
  {
   "cell_type": "markdown",
   "metadata": {},
   "source": [
    "<h2>How education may influence the salary?</h2>"
   ]
  },
  {
   "cell_type": "code",
   "execution_count": 3,
   "metadata": {
    "scrolled": true
   },
   "outputs": [
    {
     "data": {
      "text/html": [
       "<div>\n",
       "<style scoped>\n",
       "    .dataframe tbody tr th:only-of-type {\n",
       "        vertical-align: middle;\n",
       "    }\n",
       "\n",
       "    .dataframe tbody tr th {\n",
       "        vertical-align: top;\n",
       "    }\n",
       "\n",
       "    .dataframe thead th {\n",
       "        text-align: right;\n",
       "    }\n",
       "</style>\n",
       "<table border=\"1\" class=\"dataframe\">\n",
       "  <thead>\n",
       "    <tr style=\"text-align: right;\">\n",
       "      <th></th>\n",
       "      <th>FormalEducation</th>\n",
       "      <th>Salary</th>\n",
       "    </tr>\n",
       "  </thead>\n",
       "  <tbody>\n",
       "    <tr>\n",
       "      <th>0</th>\n",
       "      <td>Bachelor's degree</td>\n",
       "      <td>56914.358553</td>\n",
       "    </tr>\n",
       "    <tr>\n",
       "      <th>1</th>\n",
       "      <td>Doctoral degree</td>\n",
       "      <td>78527.933053</td>\n",
       "    </tr>\n",
       "    <tr>\n",
       "      <th>2</th>\n",
       "      <td>I never completed any formal education</td>\n",
       "      <td>44430.660621</td>\n",
       "    </tr>\n",
       "    <tr>\n",
       "      <th>3</th>\n",
       "      <td>I prefer not to answer</td>\n",
       "      <td>38284.836141</td>\n",
       "    </tr>\n",
       "    <tr>\n",
       "      <th>4</th>\n",
       "      <td>Master's degree</td>\n",
       "      <td>58250.838766</td>\n",
       "    </tr>\n",
       "    <tr>\n",
       "      <th>5</th>\n",
       "      <td>Primary/elementary school</td>\n",
       "      <td>62677.337356</td>\n",
       "    </tr>\n",
       "    <tr>\n",
       "      <th>6</th>\n",
       "      <td>Professional degree</td>\n",
       "      <td>39503.658863</td>\n",
       "    </tr>\n",
       "    <tr>\n",
       "      <th>7</th>\n",
       "      <td>Secondary school</td>\n",
       "      <td>40395.148419</td>\n",
       "    </tr>\n",
       "    <tr>\n",
       "      <th>8</th>\n",
       "      <td>Some college/university study without earning ...</td>\n",
       "      <td>55912.810459</td>\n",
       "    </tr>\n",
       "  </tbody>\n",
       "</table>\n",
       "</div>"
      ],
      "text/plain": [
       "                                     FormalEducation        Salary\n",
       "0                                  Bachelor's degree  56914.358553\n",
       "1                                    Doctoral degree  78527.933053\n",
       "2             I never completed any formal education  44430.660621\n",
       "3                             I prefer not to answer  38284.836141\n",
       "4                                    Master's degree  58250.838766\n",
       "5                          Primary/elementary school  62677.337356\n",
       "6                                Professional degree  39503.658863\n",
       "7                                   Secondary school  40395.148419\n",
       "8  Some college/university study without earning ...  55912.810459"
      ]
     },
     "execution_count": 3,
     "metadata": {},
     "output_type": "execute_result"
    }
   ],
   "source": [
    "result_1 = question_1.groupby(['FormalEducation']).mean().reset_index()\n",
    "result_1[['FormalEducation', 'Salary']]"
   ]
  },
  {
   "cell_type": "code",
   "execution_count": 14,
   "metadata": {},
   "outputs": [
    {
     "data": {
      "image/png": "[encoded data removed]",
      "text/plain": [
       "<Figure size 432x288 with 1 Axes>"
      ]
     },
     "metadata": {
      "needs_background": "light"
     },
     "output_type": "display_data"
    }
   ],
   "source": [
    "# Visualisation for objective 1\n",
    "ax1 = result_1.plot.barh(x='FormalEducation', y='Salary')"
   ]
  },
  {
   "cell_type": "markdown",
   "metadata": {},
   "source": [
    "<h2>Gender Ratio of developers across the globe</h2>"
   ]
  },
  {
   "cell_type": "code",
   "execution_count": 5,
   "metadata": {
    "scrolled": true
   },
   "outputs": [
    {
     "data": {
      "text/html": [
       "<div>\n",
       "<style scoped>\n",
       "    .dataframe tbody tr th:only-of-type {\n",
       "        vertical-align: middle;\n",
       "    }\n",
       "\n",
       "    .dataframe tbody tr th {\n",
       "        vertical-align: top;\n",
       "    }\n",
       "\n",
       "    .dataframe thead th {\n",
       "        text-align: right;\n",
       "    }\n",
       "</style>\n",
       "<table border=\"1\" class=\"dataframe\">\n",
       "  <thead>\n",
       "    <tr style=\"text-align: right;\">\n",
       "      <th></th>\n",
       "      <th>Male</th>\n",
       "      <th>Female</th>\n",
       "    </tr>\n",
       "    <tr>\n",
       "      <th>Country</th>\n",
       "      <th></th>\n",
       "      <th></th>\n",
       "    </tr>\n",
       "  </thead>\n",
       "  <tbody>\n",
       "    <tr>\n",
       "      <th>Afghanistan</th>\n",
       "      <td>9</td>\n",
       "      <td>1</td>\n",
       "    </tr>\n",
       "    <tr>\n",
       "      <th>Aland Islands</th>\n",
       "      <td>2</td>\n",
       "      <td>0</td>\n",
       "    </tr>\n",
       "    <tr>\n",
       "      <th>Albania</th>\n",
       "      <td>28</td>\n",
       "      <td>3</td>\n",
       "    </tr>\n",
       "    <tr>\n",
       "      <th>Algeria</th>\n",
       "      <td>15</td>\n",
       "      <td>1</td>\n",
       "    </tr>\n",
       "    <tr>\n",
       "      <th>Andorra</th>\n",
       "      <td>3</td>\n",
       "      <td>0</td>\n",
       "    </tr>\n",
       "    <tr>\n",
       "      <th>Angola</th>\n",
       "      <td>1</td>\n",
       "      <td>0</td>\n",
       "    </tr>\n",
       "    <tr>\n",
       "      <th>Antarctica</th>\n",
       "      <td>5</td>\n",
       "      <td>1</td>\n",
       "    </tr>\n",
       "    <tr>\n",
       "      <th>Antigua and Barbuda</th>\n",
       "      <td>3</td>\n",
       "      <td>0</td>\n",
       "    </tr>\n",
       "    <tr>\n",
       "      <th>Argentina</th>\n",
       "      <td>151</td>\n",
       "      <td>8</td>\n",
       "    </tr>\n",
       "    <tr>\n",
       "      <th>Armenia</th>\n",
       "      <td>22</td>\n",
       "      <td>5</td>\n",
       "    </tr>\n",
       "  </tbody>\n",
       "</table>\n",
       "</div>"
      ],
      "text/plain": [
       "                     Male  Female\n",
       "Country                          \n",
       "Afghanistan             9       1\n",
       "Aland Islands           2       0\n",
       "Albania                28       3\n",
       "Algeria                15       1\n",
       "Andorra                 3       0\n",
       "Angola                  1       0\n",
       "Antarctica              5       1\n",
       "Antigua and Barbuda     3       0\n",
       "Argentina             151       8\n",
       "Armenia                22       5"
      ]
     },
     "execution_count": 5,
     "metadata": {},
     "output_type": "execute_result"
    }
   ],
   "source": [
    "# Considering only male and female\n",
    "searchfor = ['Gender non-conforming', 'Transgender; Gender non-conforming','Gender non-conforming; Other', 'Transgender; Other', 'Transgender', 'Other', 'Male; Female']\n",
    "question_2.dropna(subset=['Gender'], inplace=True)\n",
    "question_2 = question_2[~question_2.Gender.str.contains('|'.join(searchfor))]\n",
    "question_2.reset_index(drop=True, inplace=True)\n",
    "question_2.drop(['Respondent'], axis=1)\n",
    "question_2[['Country', 'Gender']]\n",
    "\n",
    "# Counting the number of male and female in each country\n",
    "pivoted_data = question_2.pivot_table(index='Country', columns='Gender', aggfunc='size', fill_value=0)\n",
    "\n",
    "result_2 = pd.DataFrame({'Male': pivoted_data['Male'], 'Female': pivoted_data['Female']}, index=pivoted_data.index)\n",
    "result_2.head(10)"
   ]
  },
  {
   "cell_type": "code",
   "execution_count": 6,
   "metadata": {},
   "outputs": [
    {
     "data": {
      "image/png": "[encoded data removed]",
      "text/plain": [
       "<Figure size 432x288 with 1 Axes>"
      ]
     },
     "metadata": {
      "needs_background": "light"
     },
     "output_type": "display_data"
    }
   ],
   "source": [
    "# Visualisation for objective 2\n",
    "ax2 = result_2.plot.bar(rot=0)"
   ]
  },
  {
   "cell_type": "markdown",
   "metadata": {},
   "source": [
    "<h2>Rate of increase of salary with years of experience</h2>"
   ]
  },
  {
   "cell_type": "code",
   "execution_count": 7,
   "metadata": {},
   "outputs": [
    {
     "data": {
      "text/html": [
       "<div>\n",
       "<style scoped>\n",
       "    .dataframe tbody tr th:only-of-type {\n",
       "        vertical-align: middle;\n",
       "    }\n",
       "\n",
       "    .dataframe tbody tr th {\n",
       "        vertical-align: top;\n",
       "    }\n",
       "\n",
       "    .dataframe thead th {\n",
       "        text-align: right;\n",
       "    }\n",
       "</style>\n",
       "<table border=\"1\" class=\"dataframe\">\n",
       "  <thead>\n",
       "    <tr style=\"text-align: right;\">\n",
       "      <th></th>\n",
       "      <th>YearsProgram</th>\n",
       "      <th>Salary</th>\n",
       "    </tr>\n",
       "  </thead>\n",
       "  <tbody>\n",
       "    <tr>\n",
       "      <th>0</th>\n",
       "      <td>1 to 2 years</td>\n",
       "      <td>33952.955892</td>\n",
       "    </tr>\n",
       "    <tr>\n",
       "      <th>1</th>\n",
       "      <td>10 to 11 years</td>\n",
       "      <td>48056.752718</td>\n",
       "    </tr>\n",
       "    <tr>\n",
       "      <th>2</th>\n",
       "      <td>11 to 12 years</td>\n",
       "      <td>54866.916054</td>\n",
       "    </tr>\n",
       "    <tr>\n",
       "      <th>3</th>\n",
       "      <td>12 to 13 years</td>\n",
       "      <td>55753.347727</td>\n",
       "    </tr>\n",
       "    <tr>\n",
       "      <th>4</th>\n",
       "      <td>13 to 14 years</td>\n",
       "      <td>57149.324680</td>\n",
       "    </tr>\n",
       "    <tr>\n",
       "      <th>5</th>\n",
       "      <td>14 to 15 years</td>\n",
       "      <td>63487.522662</td>\n",
       "    </tr>\n",
       "    <tr>\n",
       "      <th>6</th>\n",
       "      <td>15 to 16 years</td>\n",
       "      <td>62791.031631</td>\n",
       "    </tr>\n",
       "    <tr>\n",
       "      <th>7</th>\n",
       "      <td>16 to 17 years</td>\n",
       "      <td>63898.935647</td>\n",
       "    </tr>\n",
       "    <tr>\n",
       "      <th>8</th>\n",
       "      <td>17 to 18 years</td>\n",
       "      <td>73085.731295</td>\n",
       "    </tr>\n",
       "    <tr>\n",
       "      <th>9</th>\n",
       "      <td>18 to 19 years</td>\n",
       "      <td>71599.061950</td>\n",
       "    </tr>\n",
       "    <tr>\n",
       "      <th>10</th>\n",
       "      <td>19 to 20 years</td>\n",
       "      <td>73926.990204</td>\n",
       "    </tr>\n",
       "    <tr>\n",
       "      <th>11</th>\n",
       "      <td>2 to 3 years</td>\n",
       "      <td>31997.480185</td>\n",
       "    </tr>\n",
       "    <tr>\n",
       "      <th>12</th>\n",
       "      <td>20 or more years</td>\n",
       "      <td>84564.967771</td>\n",
       "    </tr>\n",
       "    <tr>\n",
       "      <th>13</th>\n",
       "      <td>3 to 4 years</td>\n",
       "      <td>37686.091623</td>\n",
       "    </tr>\n",
       "    <tr>\n",
       "      <th>14</th>\n",
       "      <td>4 to 5 years</td>\n",
       "      <td>37220.203860</td>\n",
       "    </tr>\n",
       "    <tr>\n",
       "      <th>15</th>\n",
       "      <td>5 to 6 years</td>\n",
       "      <td>39585.967627</td>\n",
       "    </tr>\n",
       "    <tr>\n",
       "      <th>16</th>\n",
       "      <td>6 to 7 years</td>\n",
       "      <td>41112.825421</td>\n",
       "    </tr>\n",
       "    <tr>\n",
       "      <th>17</th>\n",
       "      <td>7 to 8 years</td>\n",
       "      <td>42798.492890</td>\n",
       "    </tr>\n",
       "    <tr>\n",
       "      <th>18</th>\n",
       "      <td>8 to 9 years</td>\n",
       "      <td>45788.562715</td>\n",
       "    </tr>\n",
       "    <tr>\n",
       "      <th>19</th>\n",
       "      <td>9 to 10 years</td>\n",
       "      <td>48603.051609</td>\n",
       "    </tr>\n",
       "    <tr>\n",
       "      <th>20</th>\n",
       "      <td>Less than a year</td>\n",
       "      <td>24673.256855</td>\n",
       "    </tr>\n",
       "  </tbody>\n",
       "</table>\n",
       "</div>"
      ],
      "text/plain": [
       "        YearsProgram        Salary\n",
       "0       1 to 2 years  33952.955892\n",
       "1     10 to 11 years  48056.752718\n",
       "2     11 to 12 years  54866.916054\n",
       "3     12 to 13 years  55753.347727\n",
       "4     13 to 14 years  57149.324680\n",
       "5     14 to 15 years  63487.522662\n",
       "6     15 to 16 years  62791.031631\n",
       "7     16 to 17 years  63898.935647\n",
       "8     17 to 18 years  73085.731295\n",
       "9     18 to 19 years  71599.061950\n",
       "10    19 to 20 years  73926.990204\n",
       "11      2 to 3 years  31997.480185\n",
       "12  20 or more years  84564.967771\n",
       "13      3 to 4 years  37686.091623\n",
       "14      4 to 5 years  37220.203860\n",
       "15      5 to 6 years  39585.967627\n",
       "16      6 to 7 years  41112.825421\n",
       "17      7 to 8 years  42798.492890\n",
       "18      8 to 9 years  45788.562715\n",
       "19     9 to 10 years  48603.051609\n",
       "20  Less than a year  24673.256855"
      ]
     },
     "execution_count": 7,
     "metadata": {},
     "output_type": "execute_result"
    }
   ],
   "source": [
    "result_3 = question_3.groupby(['YearsProgram']).mean().reset_index()\n",
    "result_3[['YearsProgram', 'Salary']]"
   ]
  },
  {
   "cell_type": "code",
   "execution_count": 8,
   "metadata": {},
   "outputs": [
    {
     "data": {
      "image/png": "[encoded data removed]",
      "text/plain": [
       "<Figure size 432x288 with 1 Axes>"
      ]
     },
     "metadata": {
      "needs_background": "light"
     },
     "output_type": "display_data"
    }
   ],
   "source": [
    "# Visualisation for objective 3\n",
    "ax3 = result_3.plot.barh(x='YearsProgram', y='Salary')"
   ]
  },
  {
   "cell_type": "markdown",
   "metadata": {},
   "source": [
    "<h2> More Language = More Money? </h2>"
   ]
  },
  {
   "cell_type": "code",
   "execution_count": 9,
   "metadata": {},
   "outputs": [
    {
     "name": "stdout",
     "output_type": "stream",
     "text": [
      "Responses: 36625\n"
     ]
    }
   ],
   "source": [
    "# Counting number of languages\n",
    "question_4['LanguageCount'] = question_4['HaveWorkedLanguage'].str.count(';') + 1\n",
    "\n",
    "# Dropping NaN in LanguageCount\n",
    "question_4.dropna(subset=['LanguageCount'], inplace=True)\n",
    "question_4.reset_index(drop=True, inplace=True)\n",
    "print('Responses:', question_4['Salary'].shape[0])\n",
    "\n",
    "# Grouping Salary according to number of languages\n",
    "grouped_salary = question_4.groupby(['LanguageCount']).mean().reset_index()\n",
    "\n",
    "# Dropping NaN in Salary\n",
    "grouped_salary.dropna(subset=['Salary'], inplace=True)\n",
    "grouped_salary.reset_index(drop=True, inplace=True)"
   ]
  },
  {
   "cell_type": "code",
   "execution_count": 10,
   "metadata": {},
   "outputs": [
    {
     "data": {
      "text/html": [
       "<div>\n",
       "<style scoped>\n",
       "    .dataframe tbody tr th:only-of-type {\n",
       "        vertical-align: middle;\n",
       "    }\n",
       "\n",
       "    .dataframe tbody tr th {\n",
       "        vertical-align: top;\n",
       "    }\n",
       "\n",
       "    .dataframe thead th {\n",
       "        text-align: right;\n",
       "    }\n",
       "</style>\n",
       "<table border=\"1\" class=\"dataframe\">\n",
       "  <thead>\n",
       "    <tr style=\"text-align: right;\">\n",
       "      <th></th>\n",
       "      <th>LanguageCount</th>\n",
       "      <th>Salary</th>\n",
       "    </tr>\n",
       "  </thead>\n",
       "  <tbody>\n",
       "    <tr>\n",
       "      <th>0</th>\n",
       "      <td>1.0</td>\n",
       "      <td>53202.325036</td>\n",
       "    </tr>\n",
       "    <tr>\n",
       "      <th>1</th>\n",
       "      <td>2.0</td>\n",
       "      <td>57888.283987</td>\n",
       "    </tr>\n",
       "    <tr>\n",
       "      <th>2</th>\n",
       "      <td>3.0</td>\n",
       "      <td>55213.482484</td>\n",
       "    </tr>\n",
       "    <tr>\n",
       "      <th>3</th>\n",
       "      <td>4.0</td>\n",
       "      <td>58317.869749</td>\n",
       "    </tr>\n",
       "    <tr>\n",
       "      <th>4</th>\n",
       "      <td>5.0</td>\n",
       "      <td>59163.122613</td>\n",
       "    </tr>\n",
       "    <tr>\n",
       "      <th>5</th>\n",
       "      <td>6.0</td>\n",
       "      <td>58405.710495</td>\n",
       "    </tr>\n",
       "    <tr>\n",
       "      <th>6</th>\n",
       "      <td>7.0</td>\n",
       "      <td>58763.422530</td>\n",
       "    </tr>\n",
       "    <tr>\n",
       "      <th>7</th>\n",
       "      <td>8.0</td>\n",
       "      <td>57447.874539</td>\n",
       "    </tr>\n",
       "    <tr>\n",
       "      <th>8</th>\n",
       "      <td>9.0</td>\n",
       "      <td>53301.021354</td>\n",
       "    </tr>\n",
       "    <tr>\n",
       "      <th>9</th>\n",
       "      <td>10.0</td>\n",
       "      <td>58741.498670</td>\n",
       "    </tr>\n",
       "  </tbody>\n",
       "</table>\n",
       "</div>"
      ],
      "text/plain": [
       "   LanguageCount        Salary\n",
       "0            1.0  53202.325036\n",
       "1            2.0  57888.283987\n",
       "2            3.0  55213.482484\n",
       "3            4.0  58317.869749\n",
       "4            5.0  59163.122613\n",
       "5            6.0  58405.710495\n",
       "6            7.0  58763.422530\n",
       "7            8.0  57447.874539\n",
       "8            9.0  53301.021354\n",
       "9           10.0  58741.498670"
      ]
     },
     "execution_count": 10,
     "metadata": {},
     "output_type": "execute_result"
    }
   ],
   "source": [
    "# Fitlering outliers\n",
    "salary_quantile = grouped_salary[\"Salary\"].quantile(0.1)\n",
    "\n",
    "grouped_salary = grouped_salary[grouped_salary[\"Salary\"] > salary_quantile].head(10)\n",
    "grouped_salary[['LanguageCount', 'Salary']]"
   ]
  },
  {
   "cell_type": "markdown",
   "metadata": {},
   "source": [
    "<h4>Average Salary</h4>"
   ]
  },
  {
   "cell_type": "code",
   "execution_count": 11,
   "metadata": {},
   "outputs": [
    {
     "name": "stdout",
     "output_type": "stream",
     "text": [
      "Average Salary:  57044.46114557163\n"
     ]
    }
   ],
   "source": [
    "print('Average Salary: ', grouped_salary['Salary'].mean())"
   ]
  },
  {
   "cell_type": "code",
   "execution_count": 12,
   "metadata": {
    "scrolled": false
   },
   "outputs": [
    {
     "data": {
      "image/png": "[encoded data removed]",
      "text/plain": [
       "<Figure size 432x288 with 1 Axes>"
      ]
     },
     "metadata": {
      "needs_background": "light"
     },
     "output_type": "display_data"
    }
   ],
   "source": [
    "# Visualisation for objective 4\n",
    "ax4 = grouped_salary.plot.bar(x='LanguageCount', y='Salary', rot=0)"
   ]
  }
 ],
 "metadata": {
  "kernelspec": {
   "display_name": "Python 3",
   "language": "python",
   "name": "python3"
  },
  "language_info": {
   "codemirror_mode": {
    "name": "ipython",
    "version": 3
   },
   "file_extension": ".py",
   "mimetype": "text/x-python",
   "name": "python",
   "nbconvert_exporter": "python",
   "pygments_lexer": "ipython3",
   "version": "3.7.1"
  }
 },
 "nbformat": 4,
 "nbformat_minor": 2
}
